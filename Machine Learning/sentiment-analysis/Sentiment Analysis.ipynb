{
 "cells": [
  {
   "cell_type": "code",
   "execution_count": 4,
   "metadata": {
    "collapsed": false,
    "scrolled": false
   },
   "outputs": [
    {
     "name": "stdout",
     "output_type": "stream",
     "text": [
      "(18000, 5) (2000, 5) (2000, 4)\n"
     ]
    }
   ],
   "source": [
    "from time import time\n",
    "\n",
    "import random\n",
    "import numpy as np\n",
    "import pandas as pd\n",
    "from sklearn.metrics import accuracy_score\n",
    "\n",
    "train_data = pd.read_csv('./input/train.csv')\n",
    "test_labels = pd.read_csv('./input/test.csv')\n",
    "test_data = test_labels.drop('Sentiment', axis=1)\n",
    "#train_data = df[:500]\n",
    "#test_labels = test_labels[:100]\n",
    "#test_data = test_data[:100]\n",
    "print train_data.shape, test_labels.shape, test_data.shape"
   ]
  },
  {
   "cell_type": "code",
   "execution_count": 5,
   "metadata": {
    "collapsed": false
   },
   "outputs": [],
   "source": [
    "#Preprocessing\n",
    "import re\n",
    "from nltk.corpus import stopwords\n",
    "\n",
    "def preprocess(row):\n",
    "    phrase = row[\"Phrase\"]\n",
    "    phrase = re.sub(\"[0-9-]\", \"\", phrase) #remove numbers\n",
    "    phrase = phrase.lower() #lowercase\n",
    "    phraseArray = phrase.split()\n",
    "    #remove stopwords\n",
    "    stops = set(stopwords.words(\"english\"))\n",
    "    nonstopwords = [w for w in phraseArray if not w in stops]\n",
    "    return \" \".join(nonstopwords) #return the preprocessed version"
   ]
  },
  {
   "cell_type": "code",
   "execution_count": 6,
   "metadata": {
    "collapsed": false
   },
   "outputs": [],
   "source": [
    "train_data[\"Preprocessed\"] = train_data.apply(preprocess, axis=1)\n",
    "#print(df)"
   ]
  },
  {
   "cell_type": "code",
   "execution_count": 7,
   "metadata": {
    "collapsed": false
   },
   "outputs": [
    {
     "name": "stdout",
     "output_type": "stream",
     "text": [
      "Cleaning time: 0.362 s\n"
     ]
    }
   ],
   "source": [
    "from sklearn.feature_extraction.text import CountVectorizer\n",
    "vectorizer = CountVectorizer(analyzer = \"word\", \\\n",
    "                            tokenizer = None, \\\n",
    "                            preprocessor = None, \\\n",
    "                            stop_words = None, \\\n",
    "                            max_features = 5000)\n",
    "t2 = time()\n",
    "train_data_features = vectorizer.fit_transform(train_data['Preprocessed'])\n",
    "\n",
    "train_data_features = train_data_features.toarray()\n",
    "print \"Cleaning time:\", round(time()-t2, 3), \"s\"\n",
    "#print(train_data_features)\n",
    "\n",
    "#Vocabulary\n",
    "#print(vectorizer.get_feature_names())"
   ]
  },
  {
   "cell_type": "code",
   "execution_count": 8,
   "metadata": {
    "collapsed": false
   },
   "outputs": [
    {
     "name": "stdout",
     "output_type": "stream",
     "text": [
      "Training time: 1211.104 s\n",
      "Accuracy score: 0.920166666667\n"
     ]
    }
   ],
   "source": [
    "# Random Forest\n",
    "from sklearn.ensemble import RandomForestClassifier\n",
    "#Initialize with 100 trees\n",
    "forest = RandomForestClassifier(n_estimators = 100)\n",
    "t0 = time()\n",
    "forest = forest.fit(train_data_features, train_data[\"Sentiment\"])\n",
    "print \"Training time:\", round(time()-t0, 3), \"s\"\n",
    "train_result = forest.predict(train_data_features)\n",
    "print \"Accuracy score:\", accuracy_score(train_result, train_data[\"Sentiment\"].as_matrix())"
   ]
  },
  {
   "cell_type": "code",
   "execution_count": 9,
   "metadata": {
    "collapsed": false
   },
   "outputs": [
    {
     "name": "stdout",
     "output_type": "stream",
     "text": [
      "Prediction time: 1.332 s\n",
      "Accuracy score: 0.557\n"
     ]
    }
   ],
   "source": [
    "#Test\n",
    "test_data[\"Preprocessed\"] = test_data.apply(preprocess, axis=1)\n",
    "test_data_features = vectorizer.transform(test_data[\"Preprocessed\"])\n",
    "test_data_features = test_data_features.toarray()\n",
    "\n",
    "t1 = time()\n",
    "result = forest.predict(test_data_features)\n",
    "print \"Prediction time:\", round(time()-t1, 3), \"s\"\n",
    "print \"Accuracy score:\", accuracy_score(result, test_labels[\"Sentiment\"].as_matrix())"
   ]
  },
  {
   "cell_type": "code",
   "execution_count": 20,
   "metadata": {
    "collapsed": false
   },
   "outputs": [
    {
     "name": "stdout",
     "output_type": "stream",
     "text": [
      "[90, 796, 161, 67]\n"
     ]
    }
   ],
   "source": [
    "accuracy_labels = [0,0,0,0]\n",
    "correct_labels = test_labels[\"Sentiment\"].as_matrix()\n",
    "for i in range(0, len(result)):\n",
    "    if(result[i] == correct_labels[i]):\n",
    "        accuracy_labels[result[i] - 1] += 1\n",
    "print accuracy_labels"
   ]
  },
  {
   "cell_type": "code",
   "execution_count": null,
   "metadata": {
    "collapsed": true
   },
   "outputs": [],
   "source": []
  }
 ],
 "metadata": {
  "kernelspec": {
   "display_name": "Python 2",
   "language": "python",
   "name": "python2"
  },
  "language_info": {
   "codemirror_mode": {
    "name": "ipython",
    "version": 2
   },
   "file_extension": ".py",
   "mimetype": "text/x-python",
   "name": "python",
   "nbconvert_exporter": "python",
   "pygments_lexer": "ipython2",
   "version": "2.7.11"
  }
 },
 "nbformat": 4,
 "nbformat_minor": 0
}
