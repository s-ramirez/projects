{
 "cells": [
  {
   "cell_type": "code",
   "execution_count": 25,
   "metadata": {
    "collapsed": false
   },
   "outputs": [],
   "source": [
    "import time\n",
    "start_time = time.time()\n",
    "\n",
    "import numpy as np\n",
    "import pandas as pd\n",
    "import math as mt\n",
    "\n",
    "from nltk.stem.porter import *\n",
    "stemmer = PorterStemmer()\n",
    "import re\n",
    "\n",
    "# load csv data\n",
    "df_train = pd.read_csv('./input/train_subset.csv', encoding=\"ISO-8859-1\")"
   ]
  },
  {
   "cell_type": "code",
   "execution_count": 39,
   "metadata": {
    "collapsed": false
   },
   "outputs": [
    {
     "name": "stdout",
     "output_type": "stream",
     "text": [
      "All words\n",
      "            relevance  char_count\n",
      "relevance    1.000000   -0.001533\n",
      "char_count  -0.001533    1.000000\n",
      "\n",
      "No stopwords\n",
      "              relevance  no_stopwords\n",
      "relevance      1.000000     -0.032249\n",
      "no_stopwords  -0.032249      1.000000\n",
      "\n",
      "Word counts\n",
      "            relevance  word_count\n",
      "relevance    1.000000   -0.004733\n",
      "word_count  -0.004733    1.000000\n"
     ]
    }
   ],
   "source": [
    "#Preprocessing\n",
    "import re\n",
    "from nltk.corpus import stopwords\n",
    "\n",
    "def preprocess(row):\n",
    "    searchterm = row[\"search_term\"]\n",
    "    return len(searchterm)\n",
    "\n",
    "def removeStop(row):\n",
    "    phraseArray = row[\"search_term\"].split()\n",
    "    stops = set(stopwords.words(\"english\"))\n",
    "    nonstopwords = [w for w in phraseArray if not w in stops]\n",
    "    return len(nonstopwords)\n",
    "\n",
    "def countWords(row):\n",
    "    phaseArray = row[\"search_term\"].split()\n",
    "    return len(phaseArray)\n",
    "\n",
    "df_train['char_count'] = df_train.apply(preprocess, axis=1)\n",
    "df_train['no_stopwords'] = df_train.apply(removeStop, axis=1)\n",
    "df_train['word_count'] = df_train.apply(countWords, axis=1)\n",
    "\n",
    "print('All words')\n",
    "print(df_train[['relevance', 'char_count']].corr(method='pearson'))\n",
    "print('\\nNo stopwords')\n",
    "print(df_train[['relevance', 'no_stopwords']].corr(method='pearson'))\n",
    "print('\\nWord counts')\n",
    "print(df_train[['relevance', 'word_count']].corr(method='pearson'))"
   ]
  },
  {
   "cell_type": "code",
   "execution_count": null,
   "metadata": {
    "collapsed": false
   },
   "outputs": [],
   "source": [
    "shingle_size = 2\n",
    "def shingles(s, k = shingleSize):\n",
    "    return [s[i:i + k] for i in range(len(s) - k + 1)]"
   ]
  },
  {
   "cell_type": "code",
   "execution_count": null,
   "metadata": {
    "collapsed": true
   },
   "outputs": [],
   "source": [
    "df_all['search_shingles'] = df_all['search_term'].map(shingles)\n",
    "df_all['search_shingles'] = df_all['search_term'].map(shingles)"
   ]
  }
 ],
 "metadata": {
  "kernelspec": {
   "display_name": "Python 3",
   "language": "python",
   "name": "python3"
  },
  "language_info": {
   "codemirror_mode": {
    "name": "ipython",
    "version": 3
   },
   "file_extension": ".py",
   "mimetype": "text/x-python",
   "name": "python",
   "nbconvert_exporter": "python",
   "pygments_lexer": "ipython3",
   "version": "3.5.1"
  }
 },
 "nbformat": 4,
 "nbformat_minor": 0
}
